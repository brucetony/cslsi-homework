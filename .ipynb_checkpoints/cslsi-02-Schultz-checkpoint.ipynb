{
 "cells": [
  {
   "cell_type": "markdown",
   "metadata": {},
   "source": [
    "# Assignment 02\n"
   ]
  },
  {
   "cell_type": "markdown",
   "metadata": {},
   "source": [
    "\n",
    "Bruce Schultz\n"
   ]
  },
  {
   "cell_type": "markdown",
   "metadata": {},
   "source": [
    "\n",
    "bschultz@uni-bonn.de\n"
   ]
  },
  {
   "cell_type": "markdown",
   "metadata": {},
   "source": [
    "# Exercise 1"
   ]
  },
  {
   "cell_type": "raw",
   "metadata": {},
   "source": [
    "\n",
    "Part a)"
   ]
  },
  {
   "cell_type": "code",
   "execution_count": 8,
   "metadata": {},
   "outputs": [
    {
     "data": {
      "text/plain": [
       "{1: [2.7, 2.5, 4.5],\n",
       " 2: [3.6, 1.0, 7.0],\n",
       " 3: [1.2, 5.0, 4.0],\n",
       " 4: [1.0, 7.0, 5.0],\n",
       " 5: [2.3, 3.5, 4.0],\n",
       " 6: [4.0, 0.5, 8.0],\n",
       " 7: [2.5, 3.0, 6.5]}"
      ]
     },
     "execution_count": 8,
     "metadata": {},
     "output_type": "execute_result"
    }
   ],
   "source": [
    "l1 = [2.7, 2.5, 4.5]\n",
    "l2 = [3.6, 1.0, 7.0]\n",
    "l3 = [1.2, 5.0, 4.0]\n",
    "l4 = [1.0, 7.0, 5.0]\n",
    "l5 = [2.3, 3.5, 4.0]\n",
    "l6 = [4.0, 0.5, 8.0]\n",
    "l7 = [2.5, 3.0, 6.5]\n",
    "\n",
    "dict={1: l1, 2: l2, 3: l3, 4: l4, 5: l5, 6: l6, 7: l7}\n",
    "dict"
   ]
  },
  {
   "cell_type": "raw",
   "metadata": {},
   "source": [
    "Part b)"
   ]
  },
  {
   "cell_type": "code",
   "execution_count": 9,
   "metadata": {},
   "outputs": [
    {
     "name": "stdout",
     "output_type": "stream",
     "text": [
      "Grade values =  [2.7, 3.6, 1.2, 1.0, 2.3, 4.0, 2.5]\n",
      "Study Hours =  [2.5, 1.0, 5.0, 7.0, 3.5, 0.5, 3.0]\n",
      "Time On Social Media values =  [4.5, 7.0, 4.0, 5.0, 4.0, 8.0, 6.5]\n"
     ]
    }
   ],
   "source": [
    "def get_values(d, i):\n",
    "    n = 1\n",
    "    lst = []\n",
    "    while n <= len(d.keys()):\n",
    "        lst.append(d[n][i])\n",
    "        n += 1\n",
    "    return lst\n",
    "\n",
    "grade = get_values(dict, 0)\n",
    "studyHrs = get_values(dict, 1)\n",
    "timeSpentOnSocialMedia = get_values(dict, 2)\n",
    "\n",
    "print('Grade values = ', grade)\n",
    "print('Study Hours = ', studyHrs)\n",
    "print('Time On Social Media values = ', timeSpentOnSocialMedia)"
   ]
  },
  {
   "cell_type": "raw",
   "metadata": {},
   "source": [
    "Part c)"
   ]
  },
  {
   "cell_type": "code",
   "execution_count": 10,
   "metadata": {},
   "outputs": [
    {
     "name": "stdout",
     "output_type": "stream",
     "text": [
      "Grade range is 3.0\n",
      "studyHrs range is 6.5\n",
      "timeSpentOnSocialMedia range is 4.0\n"
     ]
    }
   ],
   "source": [
    "def get_range(x):\n",
    "    return max(x)-min(x)\n",
    "\n",
    "print('Grade range is', get_range(grade))\n",
    "print('studyHrs range is', get_range(studyHrs))\n",
    "print('timeSpentOnSocialMedia range is', get_range(timeSpentOnSocialMedia))"
   ]
  },
  {
   "cell_type": "raw",
   "metadata": {},
   "source": [
    "Part d)"
   ]
  },
  {
   "cell_type": "code",
   "execution_count": 11,
   "metadata": {},
   "outputs": [
    {
     "name": "stdout",
     "output_type": "stream",
     "text": [
      "Grade mean is 2.4714285714285715\n",
      "studyHrs mean is 3.2142857142857144\n",
      "timeSpentOnSocialMedia mean is 5.571428571428571\n"
     ]
    }
   ],
   "source": [
    "def mean(x):\n",
    "    return sum(x)/len(x)\n",
    "\n",
    "print('Grade mean is', mean(grade))\n",
    "print('studyHrs mean is', mean(studyHrs))\n",
    "print('timeSpentOnSocialMedia mean is', mean(timeSpentOnSocialMedia))"
   ]
  },
  {
   "cell_type": "raw",
   "metadata": {},
   "source": [
    "Part e)"
   ]
  },
  {
   "cell_type": "code",
   "execution_count": 12,
   "metadata": {},
   "outputs": [
    {
     "name": "stdout",
     "output_type": "stream",
     "text": [
      "Grade standard deviation is 1.0333223611442928\n",
      "studyHrs standard deviation is 2.084931359903775\n",
      "timeSpentOnSocialMedia standard deviation is 1.4742691028964496\n"
     ]
    }
   ],
   "source": [
    "def std_dev(x):\n",
    "    sq_diff = [((i-mean(x))**2) for i in x]\n",
    "    res = (sum(sq_diff)/len(x))**(0.5)\n",
    "    return res\n",
    "\n",
    "print('Grade standard deviation is', std_dev(grade))\n",
    "print('studyHrs standard deviation is', std_dev(studyHrs))\n",
    "print('timeSpentOnSocialMedia standard deviation is', std_dev(timeSpentOnSocialMedia))"
   ]
  },
  {
   "cell_type": "raw",
   "metadata": {},
   "source": [
    "Part f)"
   ]
  },
  {
   "cell_type": "code",
   "execution_count": 13,
   "metadata": {
    "collapsed": true
   },
   "outputs": [],
   "source": [
    "def pearson(x, y):\n",
    "    n = len(x)\n",
    "    x_diff = [(i-mean(x)) for i in x]\n",
    "    y_diff = [(j-mean(y)) for j in y]\n",
    "    x_dev = std_dev(x)\n",
    "    y_dev = std_dev(y)\n",
    "    prod = [k*l for k,l in zip(x_diff, y_diff)]\n",
    "    sum_prod = sum(prod)\n",
    "    r = sum_prod/(n*x_dev*y_dev)\n",
    "    return r"
   ]
  },
  {
   "cell_type": "code",
   "execution_count": 14,
   "metadata": {},
   "outputs": [
    {
     "name": "stdout",
     "output_type": "stream",
     "text": [
      "Coefficient between grade and timeSocialMedia: 0.7702987145839846\n",
      "Coefficient between grade and studyHrs: -0.9752201847616595\n"
     ]
    }
   ],
   "source": [
    "print('Coefficient between grade and timeSocialMedia:', pearson(grade, timeSpentOnSocialMedia))\n",
    "print('Coefficient between grade and studyHrs:', pearson(grade, studyHrs))"
   ]
  },
  {
   "cell_type": "markdown",
   "metadata": {},
   "source": [
    "It appears that there is a positive correlation between spending time on social media and your grade, specifically that you will get a higher grade the more time you spend on social media. The opposite is true for your grade and study hours. Haha"
   ]
  },
  {
   "cell_type": "markdown",
   "metadata": {},
   "source": [
    "# Exercise 2"
   ]
  },
  {
   "cell_type": "markdown",
   "metadata": {},
   "source": [
    "Part a)\n",
    "This recursive function takes the base value s and adds the value n to it, then reduces n by 1 and repeats this action until n = 0. Both s and n are replaced with each level of recursion, so as n goes to 0, each value is added to the updated value of s."
   ]
  },
  {
   "cell_type": "markdown",
   "metadata": {},
   "source": [
    "Part b)\n",
    "Since -1 is less than 0, and the function substracts 1 from n with each iteration, the function will be carried out indefinitely since n will never reach 0. This will cause an error in Python (hopefully) after so many iterations."
   ]
  },
  {
   "cell_type": "code",
   "execution_count": 3,
   "metadata": {},
   "outputs": [
    {
     "data": {
      "text/plain": [
       "4"
      ]
     },
     "execution_count": 3,
     "metadata": {},
     "output_type": "execute_result"
    }
   ],
   "source": [
    "a = [4]\n",
    "\n",
    "def rec_poly(x, p):\n",
    "    '''A recursive function that solves a polynomial \\ \n",
    "    function with given coefficients at point x'''\n",
    "    if len(p)==0:\n",
    "        return 0 \n",
    "    else:\n",
    "        return (p[0] + x*(rec_poly(x, p[1:])))\n",
    "rec_poly(2, a)"
   ]
  },
  {
   "cell_type": "code",
   "execution_count": null,
   "metadata": {
    "collapsed": true
   },
   "outputs": [],
   "source": []
  }
 ],
 "metadata": {
  "kernelspec": {
   "display_name": "Python 3",
   "language": "python",
   "name": "python3"
  },
  "language_info": {
   "codemirror_mode": {
    "name": "ipython",
    "version": 3
   },
   "file_extension": ".py",
   "mimetype": "text/x-python",
   "name": "python",
   "nbconvert_exporter": "python",
   "pygments_lexer": "ipython3",
   "version": "3.6.2"
  }
 },
 "nbformat": 4,
 "nbformat_minor": 2
}
