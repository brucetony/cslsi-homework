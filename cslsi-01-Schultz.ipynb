{
 "cells": [
  {
   "cell_type": "markdown",
   "metadata": {},
   "source": [
    "# Assignment 01"
   ]
  },
  {
   "cell_type": "raw",
   "metadata": {},
   "source": [
    "Bruce Schultz"
   ]
  },
  {
   "cell_type": "markdown",
   "metadata": {},
   "source": [
    "# Exercise 1"
   ]
  },
  {
   "cell_type": "raw",
   "metadata": {},
   "source": [
    "Part a"
   ]
  },
  {
   "cell_type": "code",
   "execution_count": 7,
   "metadata": {},
   "outputs": [
    {
     "data": {
      "text/plain": [
       "226.0"
      ]
     },
     "execution_count": 7,
     "metadata": {},
     "output_type": "execute_result"
    }
   ],
   "source": [
    "def cen_diff(x, h):\n",
    "    y=(((x+h)**2)-((x-h)**2))/(2*h)\n",
    "    return y\n",
    "\n",
    "cen_diff(113, 5)"
   ]
  },
  {
   "cell_type": "raw",
   "metadata": {},
   "source": [
    "Part b"
   ]
  },
  {
   "cell_type": "code",
   "execution_count": 10,
   "metadata": {},
   "outputs": [
    {
     "data": {
      "text/plain": [
       "226"
      ]
     },
     "execution_count": 10,
     "metadata": {},
     "output_type": "execute_result"
    }
   ],
   "source": [
    "def der_xsq(x):\n",
    "    z=(2*x)\n",
    "    return z\n",
    "\n",
    "der_xsq(113)"
   ]
  },
  {
   "cell_type": "raw",
   "metadata": {},
   "source": [
    "Part c"
   ]
  },
  {
   "cell_type": "markdown",
   "metadata": {},
   "source": [
    "Regardless of what x or h is, the answers almost always match. The value of h does not appear to play a significant role in the approximation"
   ]
  },
  {
   "cell_type": "markdown",
   "metadata": {},
   "source": [
    "# Exercise 2"
   ]
  },
  {
   "cell_type": "raw",
   "metadata": {},
   "source": [
    "Part a"
   ]
  },
  {
   "cell_type": "code",
   "execution_count": 29,
   "metadata": {},
   "outputs": [
    {
     "data": {
      "text/plain": [
       "4"
      ]
     },
     "execution_count": 29,
     "metadata": {},
     "output_type": "execute_result"
    }
   ],
   "source": [
    "a='''Python is a widely used high-level programming language. \n",
    "Python has a design philosophy that emphasizes code readability. \n",
    "Syntax of python allows programmers to express concepts in fewer lines of code. \n",
    "The language provides constructs intended to enable writing \\\n",
    "clear programs on both a small and large scale.'''\n",
    "b='exclude'\n",
    "\n",
    "def count_sen(p):\n",
    "    return p.count('.')\n",
    "\n",
    "count_sen(a)"
   ]
  },
  {
   "cell_type": "raw",
   "metadata": {},
   "source": [
    "Part b"
   ]
  },
  {
   "cell_type": "code",
   "execution_count": 3,
   "metadata": {},
   "outputs": [
    {
     "data": {
      "text/plain": [
       "'exclude is not in the paragraph.'"
      ]
     },
     "execution_count": 3,
     "metadata": {},
     "output_type": "execute_result"
    }
   ],
   "source": [
    "a='''Python is a widely used high-level programming language. \n",
    "Python has a design philosophy that emphasizes code readability. \n",
    "Syntax of python allows programmers to express concepts in fewer lines of code. \n",
    "The language provides constructs intended to enable writing \\\n",
    "clear programs on both a small and large scale.'''\n",
    "b='exclude'\n",
    "\n",
    "def sen_check(p, k):\n",
    "    return k+' is in the paragraph.' if k in p else k+' is not in the paragraph.'\n",
    "\n",
    "sen_check(a, b)"
   ]
  },
  {
   "cell_type": "raw",
   "metadata": {},
   "source": [
    "Part c"
   ]
  },
  {
   "cell_type": "code",
   "execution_count": 2,
   "metadata": {},
   "outputs": [
    {
     "name": "stdout",
     "output_type": "stream",
     "text": [
      "Python is a widely used high-level programming language. \n",
      "\n",
      "Python has a design philosophy that emphasizes code readability. \n",
      "\n",
      "Syntax of python allows programmers to express concepts in fewer lines of code."
     ]
    }
   ],
   "source": [
    "a='''Python is a widely used high-level programming language. \n",
    "Python has a design philosophy that emphasizes code readability. \n",
    "Syntax of python allows programmers to express concepts in fewer lines of code. \n",
    "The language provides constructs intended to enable writing \\\n",
    "clear programs on both a small and large scale.'''\n",
    "\n",
    "def remove_last_sen(p):\n",
    "    sep='. \\n'\n",
    "    p=p.split('. ')\n",
    "    p = p[:-1]\n",
    "    return print(sep.join(p), end='.')\n",
    "\n",
    "remove_last_sen(a)"
   ]
  },
  {
   "cell_type": "markdown",
   "metadata": {},
   "source": [
    "# Exercise 3"
   ]
  },
  {
   "cell_type": "raw",
   "metadata": {},
   "source": [
    "Part a"
   ]
  },
  {
   "cell_type": "code",
   "execution_count": 1,
   "metadata": {
    "collapsed": true
   },
   "outputs": [],
   "source": [
    "def bmi(h, w):\n",
    "    calc=w/(h**2)\n",
    "    return calc"
   ]
  },
  {
   "cell_type": "raw",
   "metadata": {},
   "source": [
    "Part b"
   ]
  },
  {
   "cell_type": "code",
   "execution_count": 27,
   "metadata": {},
   "outputs": [
    {
     "name": "stdout",
     "output_type": "stream",
     "text": [
      "BMI is 24.772096710265558 - in normal range\n",
      "BMI is 14.317019722425126 - anorexia\n",
      "BMI is 43.774152730754764 - severely obese\n"
     ]
    }
   ],
   "source": [
    "def condition(h, w, g):\n",
    "    \n",
    "    hw=bmi(h, w)\n",
    "    \n",
    "    if (g is 'male' or 'female') and (hw<17.5):\n",
    "        result = ' - anorexia'\n",
    "    elif (g is 'male' or 'female') and (hw>35):\n",
    "        result =  ' - severely obese'\n",
    "    elif g is 'male' and hw<20.7:\n",
    "        result =  ' - underweight'\n",
    "    elif g is 'male' and 20.7<=hw<=26.4:\n",
    "        result =  ' - in normal range'\n",
    "    elif g is 'male' and 27.8<=hw<=31.1:\n",
    "        result =  ' - overweight'\n",
    "    elif g is 'female' and hw<19.1:\n",
    "        result =  ' - underweight'\n",
    "    elif g is 'female' and 19.1<=hw<=25.8:\n",
    "        result =  ' - in normal range'\n",
    "    elif g is 'female' and 27.3<=hw<=32.3:\n",
    "        result =  ' - overweight'\n",
    "    else:\n",
    "        print(\"Error: Gender must be entered as 'male' or 'female'\")\n",
    "    return 'BMI is '+str(hw)+result\n",
    "\n",
    "print(condition(1.74, 75, 'male'))\n",
    "print(condition(1.85, 49, 'male'))\n",
    "print(condition(1.71, 128, 'female'))"
   ]
  },
  {
   "cell_type": "code",
   "execution_count": null,
   "metadata": {
    "collapsed": true
   },
   "outputs": [],
   "source": []
  }
 ],
 "metadata": {
  "kernelspec": {
   "display_name": "Python 3",
   "language": "python",
   "name": "python3"
  },
  "language_info": {
   "codemirror_mode": {
    "name": "ipython",
    "version": 3
   },
   "file_extension": ".py",
   "mimetype": "text/x-python",
   "name": "python",
   "nbconvert_exporter": "python",
   "pygments_lexer": "ipython3",
   "version": "3.6.2"
  }
 },
 "nbformat": 4,
 "nbformat_minor": 2
}
