{
 "cells": [
  {
   "cell_type": "markdown",
   "metadata": {},
   "source": [
    "# Assigment 03"
   ]
  },
  {
   "cell_type": "markdown",
   "metadata": {},
   "source": [
    "Bruce Schultz\n",
    "bschultz@uni-bonn.de"
   ]
  },
  {
   "cell_type": "markdown",
   "metadata": {},
   "source": [
    "# Exercise 01"
   ]
  },
  {
   "cell_type": "code",
   "execution_count": 9,
   "metadata": {},
   "outputs": [
    {
     "data": {
      "text/plain": [
       "[[-1, -5, -3, -3], [-5, 2, -5, 3], [-2, -2, 1, 4]]"
      ]
     },
     "execution_count": 9,
     "metadata": {},
     "output_type": "execute_result"
    }
   ],
   "source": [
    "import random\n",
    "\n",
    "def matrix(rowNum, colNum):\n",
    "    '''Does the same as above, but written in a comprehension'''\n",
    "    Array = [[random.randint(-5, 5) for j in range(colNum)] for i in range(rowNum)]\n",
    "    return Array\n",
    "    \n",
    "matrix(3, 4)"
   ]
  },
  {
   "cell_type": "code",
   "execution_count": 12,
   "metadata": {},
   "outputs": [
    {
     "name": "stdout",
     "output_type": "stream",
     "text": [
      "[[5, 0, -5, -1], [-4, -2, 0, -3], [0, -4, 2, -3]]\n",
      "[[-5, 3, 5, -1], [-5, 1, -2, -4], [-3, -2, 0, -1]]\n",
      "[[0, 3, 0, -2], [-9, -1, -2, -7], [-3, -6, 2, -4]]\n"
     ]
    }
   ],
   "source": [
    "M1 = matrix(3, 4)\n",
    "M2 = matrix(3, 4)\n",
    "\n",
    "def addition(A, B):\n",
    "    '''Takes 2 matrices of matching height and \\\n",
    "        width and finds the sum of individual components'''\n",
    "    if (len(A) != len(B)) or (len(A[0]) != len(B[0])):\n",
    "        raise Exception('Matrices are not the same size,\\\n",
    " please verify that the dimensions match')\n",
    "    newArray=[]\n",
    "    for i in range(len(A)):\n",
    "        row=[]\n",
    "        for j in range(len(A[0])):\n",
    "            row.append(A[i][j] + B[i][j])\n",
    "        newArray.append(row)\n",
    "    return newArray\n",
    "\n",
    "print(M1)\n",
    "print(M2)\n",
    "print(addition(M1, M2))"
   ]
  },
  {
   "cell_type": "code",
   "execution_count": 14,
   "metadata": {},
   "outputs": [
    {
     "name": "stdout",
     "output_type": "stream",
     "text": [
      "[[-4, -2, 1], [-1, 1, 1]]\n",
      "[[3, -4], [-2, 0], [5, 2]]\n",
      "[[-3, 18], [0, 6]]\n"
     ]
    }
   ],
   "source": [
    "M1 = matrix(2, 3)\n",
    "M2 = matrix(3, 2)\n",
    "\n",
    "def multiplication(A, B):\n",
    "    if (len(A[0]) != len(B)):\n",
    "        raise Exception('Column length of matrix A does not match,\\\n",
    " the row height of matrix B')\n",
    "    newArray=[]\n",
    "    for i in range(len(A)):\n",
    "        row=[]\n",
    "        for j in range(len(B[0])):\n",
    "            col=[]\n",
    "            for k in range(len(B)):\n",
    "                col.append(A[i][k] * B[k][j])\n",
    "            row.append(sum(col))\n",
    "        newArray.append(row)\n",
    "    return newArray\n",
    "\n",
    "print(M1)\n",
    "print(M2)\n",
    "print(multiplication(M1, M2))"
   ]
  },
  {
   "cell_type": "markdown",
   "metadata": {
    "collapsed": true
   },
   "source": [
    "# Exercise 02"
   ]
  },
  {
   "cell_type": "code",
   "execution_count": 1,
   "metadata": {},
   "outputs": [
    {
     "data": {
      "text/plain": [
       "{0: 'Left Cerebral White Matter',\n",
       " 1: 'Left Cerebral Cortex ',\n",
       " 2: 'Left Lateral Ventrical',\n",
       " 3: 'Left Thalamus',\n",
       " 4: 'Left Caudate',\n",
       " 5: 'Left Putamen',\n",
       " 6: 'Left Pallidum',\n",
       " 7: 'Brain-Stem',\n",
       " 8: 'Left Hippocampus',\n",
       " 9: 'Left Amygdala',\n",
       " 10: 'Left Accumbens',\n",
       " 11: 'Right Cerebral White Matter',\n",
       " 12: 'Right Cerebral Cortex ',\n",
       " 13: 'Right Lateral Ventricle',\n",
       " 14: 'Right Thalamus',\n",
       " 15: 'Right Caudate',\n",
       " 16: 'Right Putamen',\n",
       " 17: 'Right Pallidum',\n",
       " 18: 'Right Hippocampus',\n",
       " 19: 'Right Amygdala',\n",
       " 20: 'Right Accumbens'}"
      ]
     },
     "execution_count": 1,
     "metadata": {},
     "output_type": "execute_result"
    }
   ],
   "source": [
    "def AtlasDict(filepath):\n",
    "    with open(filepath, 'r') as file:\n",
    "        '''Parses a given xml file and returns brain structures and their indices'''\n",
    "        lines = file.read().split('<label ')[1:]\n",
    "        string_indices = [num[1] for num in [string.split('\"') for string in lines]]\n",
    "        int_indices = [int(si) for si in string_indices]\n",
    "        cleanup = [junk[1] for junk in[rightarrow.split('>') for rightarrow in lines]]\n",
    "        terms = [word.replace('</label', '') for word in cleanup]\n",
    "        dictionary = dict(zip(int_indices, terms))\n",
    "        return(dictionary)\n",
    "    \n",
    "AtlasDict('HarvardOxford-Subcortical.xml')"
   ]
  },
  {
   "cell_type": "code",
   "execution_count": 4,
   "metadata": {},
   "outputs": [
    {
     "name": "stdout",
     "output_type": "stream",
     "text": [
      "Atlas name: Harvard-Oxford Subcortical Structural Atlas\n",
      "Atlas short name: HOSPA\n",
      "0: Left Cerebral White Matter\n",
      "1: Left Cerebral Cortex \n",
      "2: Left Lateral Ventrical\n",
      "3: Left Thalamus\n",
      "4: Left Caudate\n",
      "5: Left Putamen\n",
      "6: Left Pallidum\n",
      "7: Brain-Stem\n",
      "8: Left Hippocampus\n",
      "9: Left Amygdala\n",
      "10: Left Accumbens\n",
      "11: Right Cerebral White Matter\n",
      "12: Right Cerebral Cortex \n",
      "13: Right Lateral Ventricle\n",
      "14: Right Thalamus\n",
      "15: Right Caudate\n",
      "16: Right Putamen\n",
      "17: Right Pallidum\n",
      "18: Right Hippocampus\n",
      "19: Right Amygdala\n",
      "20: Right Accumbens\n",
      "Number of structures in atlas: 21\n",
      "\n"
     ]
    }
   ],
   "source": [
    "def summarize(inputFile, outputFile):\n",
    "    with open(inputFile, 'r') as file:\n",
    "        name_cut = file.read().split('</name>')\n",
    "        name = name_cut[0].split('<name>')[1]\n",
    "        shortname_cut = name_cut[1].split('</shortname>')\n",
    "        shortname = shortname_cut[0].split('<shortname>')[1]\n",
    "    structures = AtlasDict(inputFile)\n",
    "    with open(outputFile, 'w') as output:\n",
    "        output.write('Atlas name: ' + str(name) + '\\n')\n",
    "        output.write('Atlas short name: ' + str(shortname) + '\\n')\n",
    "        for i in structures:\n",
    "            output.write(str(i) + ': ' + str(structures[i]) + '\\n')\n",
    "        output.write('Number of structures in atlas: ' + str(len(structures.keys())) + '\\n')\n",
    "\n",
    "summarize('HarvardOxford-Subcortical.xml', 'results.txt')\n",
    "\n",
    "result = open('results.txt', 'r')\n",
    "content = result.read()\n",
    "print(content)\n",
    "result.close()"
   ]
  },
  {
   "cell_type": "code",
   "execution_count": null,
   "metadata": {},
   "outputs": [],
   "source": []
  },
  {
   "cell_type": "code",
   "execution_count": null,
   "metadata": {
    "collapsed": true
   },
   "outputs": [],
   "source": []
  }
 ],
 "metadata": {
  "kernelspec": {
   "display_name": "Python 3",
   "language": "python",
   "name": "python3"
  },
  "language_info": {
   "codemirror_mode": {
    "name": "ipython",
    "version": 3
   },
   "file_extension": ".py",
   "mimetype": "text/x-python",
   "name": "python",
   "nbconvert_exporter": "python",
   "pygments_lexer": "ipython3",
   "version": "3.6.2"
  }
 },
 "nbformat": 4,
 "nbformat_minor": 2
}
