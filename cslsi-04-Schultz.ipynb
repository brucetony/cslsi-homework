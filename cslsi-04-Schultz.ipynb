{
 "cells": [
  {
   "cell_type": "markdown",
   "metadata": {},
   "source": [
    "# Bruce Schultz\n",
    "# bschultz@uni-bonn.de"
   ]
  },
  {
   "cell_type": "markdown",
   "metadata": {},
   "source": [
    "## Assignment 04"
   ]
  },
  {
   "cell_type": "markdown",
   "metadata": {},
   "source": [
    "Exercise 01"
   ]
  },
  {
   "cell_type": "code",
   "execution_count": 1,
   "metadata": {
    "collapsed": true
   },
   "outputs": [],
   "source": [
    "def pascal(rowN, outputPath):\n",
    "    \"\"\"Enter desired row number of pascal triangle and it will print\\\n",
    "    all rows for you\"\"\"\n",
    "    if rowN < 0:\n",
    "        raise Exception(\"You cannot enter a negative row number!\")\n",
    "    elif rowN == 0:\n",
    "        return [1]\n",
    "    else:\n",
    "        try:\n",
    "            result=[[1]]\n",
    "            for n in range(1, rowN+1):\n",
    "                result.append([1])\n",
    "                for k in range(n-1):\n",
    "                     next_value = result[n-1][k] + result[n-1][k+1]\n",
    "                     result[n].append(next_value)\n",
    "                result[n].append(1)\n",
    "            with open(outputPath, 'w') as output:\n",
    "                max_width = len(' '.join(map(str,result[-1])))\n",
    "                for row in result:\n",
    "                    output.write(' '.join(map(str,row)).center(max_width)+'\\n')\n",
    "        except FileNotFoundError:\n",
    "            print('Please check if output path is valid.')\n",
    "            \n",
    "pascal(14, 'cslsi-04-output-Schultz.type')"
   ]
  },
  {
   "cell_type": "markdown",
   "metadata": {},
   "source": [
    "Exercise 02"
   ]
  },
  {
   "cell_type": "code",
   "execution_count": 9,
   "metadata": {},
   "outputs": [
    {
     "name": "stdout",
     "output_type": "stream",
     "text": [
      "Sieve of Eratosthenes with input=94:\n",
      " [2, 3, 5, 7, 11, 13, 17, 19, 23, 29, 31, 37, 41, 43, 47, 53, 59, 61, 67, 71, 73, 79, 83, 89]\n",
      "\n",
      "factorize(4): {2: 2}\n",
      "\n",
      "factorize(1001): {7: 1, 11: 1, 13: 1}\n",
      "\n",
      "factorize(1231): {1231: 1}\n",
      "\n",
      "factorize(123259): {123259: 1}\n"
     ]
    }
   ],
   "source": [
    "def sieve(n):\n",
    "    \"\"\"Uses Sieve of Eratosthenes algorith to compute \\\n",
    "    list of prime numbers up to the given number\"\"\"\n",
    "    if n<=1:\n",
    "        raise Exception('Input number must be greater than 1!')\n",
    "    primes=[]\n",
    "    multiples=[]\n",
    "    for probe in range(2, n+1): #Need to add 1 to include input number in calc\n",
    "        if probe not in multiples:\n",
    "            primes.append(probe)\n",
    "            p=2\n",
    "            while (p*probe<=n+1):\n",
    "                multiples.append(p*probe)\n",
    "                p+=1\n",
    "    return primes\n",
    "    \n",
    "def factorize(m):\n",
    "    \"\"\"Uses sieve() to factor a given number m using prime numbers \\\n",
    "    until it has been reduced to a prime number, then returns \\\n",
    "    the factors and powers in dict\"\"\"\n",
    "    primes = sieve(m)\n",
    "    factors=[]\n",
    "    i=0\n",
    "    while m not in primes and m >= 2:\n",
    "        while m % primes[i] == 0:\n",
    "            factors.append(primes[i])\n",
    "            m = m/primes[i]\n",
    "        i+=1\n",
    "    if m != 1: #Must be included to avoid having 1 added to dict\n",
    "        factors.append(int(m))\n",
    "    powers=[]\n",
    "    unique_factors=[]\n",
    "    for value in factors:\n",
    "        if value not in unique_factors:\n",
    "            unique_factors.append(value)\n",
    "            powers.append(factors.count(value))\n",
    "    factor_dict=dict(zip(unique_factors, powers))\n",
    "    return factor_dict\n",
    "\n",
    "print('Sieve of Eratosthenes with input=94:\\n', sieve(94))\n",
    "print('\\nfactorize(4):', factorize(4))\n",
    "print('\\nfactorize(1001):',factorize(1001))\n",
    "print('\\nfactorize(1231):',factorize(1231))\n",
    "print('\\nfactorize(123259):',factorize(123259))"
   ]
  },
  {
   "cell_type": "code",
   "execution_count": 10,
   "metadata": {},
   "outputs": [
    {
     "name": "stdout",
     "output_type": "stream",
     "text": [
      "\n",
      "factorize(12): {2: 2, 3: 1}\n"
     ]
    }
   ],
   "source": [
    "print('\\nfactorize(12):',factorize(12))"
   ]
  },
  {
   "cell_type": "code",
   "execution_count": null,
   "metadata": {
    "collapsed": true
   },
   "outputs": [],
   "source": []
  }
 ],
 "metadata": {
  "kernelspec": {
   "display_name": "Python 3",
   "language": "python",
   "name": "python3"
  },
  "language_info": {
   "codemirror_mode": {
    "name": "ipython",
    "version": 3
   },
   "file_extension": ".py",
   "mimetype": "text/x-python",
   "name": "python",
   "nbconvert_exporter": "python",
   "pygments_lexer": "ipython3",
   "version": "3.6.2"
  }
 },
 "nbformat": 4,
 "nbformat_minor": 2
}
