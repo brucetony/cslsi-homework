{
 "cells": [
  {
   "cell_type": "markdown",
   "metadata": {},
   "source": [
    "# cslsi-assignment-07\n",
    "\n",
    "# Bruce Schultz\n",
    "# Ravinder Kaur\n",
    "\n",
    "bschultz@uni-bonn.de; \n",
    "ravinder16kaur@gmail.com"
   ]
  },
  {
   "cell_type": "markdown",
   "metadata": {},
   "source": [
    "Exercise 3"
   ]
  },
  {
   "cell_type": "code",
   "execution_count": 23,
   "metadata": {},
   "outputs": [
    {
     "name": "stdout",
     "output_type": "stream",
     "text": [
      "[54, 26, 71, 83, 49]\n",
      "0 [26, 54, 71, 83, 49]\n",
      "1 [26, 49, 71, 83, 54]\n",
      "2 [26, 49, 54, 83, 71]\n",
      "3 [26, 49, 54, 71, 83]\n"
     ]
    },
    {
     "data": {
      "text/plain": [
       "[26, 49, 54, 71, 83]"
      ]
     },
     "execution_count": 23,
     "metadata": {},
     "output_type": "execute_result"
    }
   ],
   "source": [
    "import random\n",
    "\n",
    "foo = random.sample(range(100), 5)\n",
    "blah = list(foo)\n",
    "\n",
    "def minSwapSort(array):\n",
    "    for i in range(len(array)):\n",
    "        j = array.index(min(array[i:]))\n",
    "        if i != j:\n",
    "            array[i], array[j] = array[j], array[i]\n",
    "            print(i, array)\n",
    "    return array\n",
    "\n",
    "print(blah)\n",
    "minSwapSort(foo)\n"
   ]
  },
  {
   "cell_type": "markdown",
   "metadata": {},
   "source": [
    "Point 1\n",
    "\n",
    "This function sorts an array of n integers by identifying the minimum value from i to n-1, assigning it the index j, and swapping the values of array[i] and array[j]. In that way, the smallest values are moved to the beginning of the array as the index i continues down the array and the values are thus sorted.\n",
    "    \n",
    "The invariant is that for an array (A) of n integers, all values A[:i] are sorted in non-descending order. If array B was the non-descending sorted version of A, then B[:i] would be equal to A[:i] for each i.\n",
    " \n",
    "Example: let \n",
    "A = [3, 6, 2, 7, 1] and\n",
    "B = [1, 2, 3, 6, 7]\n",
    "\n",
    "If i = 2, then A[:i] = B[:i] = [1, 2] \n",
    "\n",
    "\n",
    "Point 2\n",
    "\n",
    "There are n comparisons performed in iteration i of the for loop. i must be compared to j at every iteration of the length of the array (n). ϴ\n",
    " \n",
    "\n",
    "\n",
    "Point 3\n",
    "\n",
    "The array elements are swapped a minimum of 0 times (if the array was already in non-descending order) and a maximum of n-1 times (for example, all elements in array were in non-descending order EXCEPT the largest element was in the first position).\n",
    "\n",
    "Example minimum = [1, 2, 3, 4, 5]\n",
    "Example maximum = [5, 1, 2, 3, 4]"
   ]
  },
  {
   "cell_type": "markdown",
   "metadata": {},
   "source": [
    "Exercise 4"
   ]
  },
  {
   "cell_type": "code",
   "execution_count": 81,
   "metadata": {},
   "outputs": [
    {
     "data": {
      "text/plain": [
       "'The minimum sum of consecutive elements is -9 which ranges from [3:4] of your array.'"
      ]
     },
     "execution_count": 81,
     "metadata": {},
     "output_type": "execute_result"
    }
   ],
   "source": [
    "num = [4, -5, 8, -9, 6]\n",
    "\n",
    "def min_sum(array):\n",
    "    current_min = array[0] #Set initial min to first value\n",
    "    ultimate_min = array[0] #Set initial min to first value\n",
    "    start_index = 0 #First value index\n",
    "    end_index = 1 #First end value\n",
    "    for i in range(1, len(array)):\n",
    "        if array[i] < (current_min + array[i]):\n",
    "            start_index = i #Change which index starts the new min\n",
    "        \n",
    "        current_min = min(array[i], current_min + array[i]) #Find the min!\n",
    "        \n",
    "        #MUST be either the new value, or the sum of\\\n",
    "        # previous subarray with new value. Does not necessarily replace global min.\n",
    "        \n",
    "        if current_min < ultimate_min:\n",
    "            ultimate_min = current_min #Replace global min if current is smaller\n",
    "            end_index = i+1 #Change which index ends the new min\n",
    "    if end_index > len(array)-1: #So we can use proper notation\n",
    "        end_index = ''\n",
    "    return ('The minimum sum of consecutive elements is {} \\\n",
    "which ranges from [{}:{}] of your array.'.format(ultimate_min, start_index, end_index))\n",
    "\n",
    "min_sum(num)"
   ]
  },
  {
   "cell_type": "code",
   "execution_count": 90,
   "metadata": {},
   "outputs": [
    {
     "name": "stdout",
     "output_type": "stream",
     "text": [
      "This function required 6.904371957716648e-05 seconds for an array of size 5.\n",
      "This function required 0.000289859219265054 seconds for an array of size 500.\n"
     ]
    }
   ],
   "source": [
    "# Time required for function\n",
    "\n",
    "start_time = time.clock()\n",
    "min_sum(num)\n",
    "print (\"This function required {} seconds for an array of size {}.\".format(time.clock() - start_time, len(num)))\n",
    "\n",
    "longer = random.sample(range(-1000, 1000), 500)\n",
    "\n",
    "start_time = time.clock()\n",
    "min_sum(longer)\n",
    "print (\"This function required {} seconds for an array of size {}.\".format(time.clock() - start_time, len(longer)))"
   ]
  },
  {
   "cell_type": "code",
   "execution_count": null,
   "metadata": {
    "collapsed": true
   },
   "outputs": [],
   "source": []
  }
 ],
 "metadata": {
  "kernelspec": {
   "display_name": "Python 3",
   "language": "python",
   "name": "python3"
  },
  "language_info": {
   "codemirror_mode": {
    "name": "ipython",
    "version": 3
   },
   "file_extension": ".py",
   "mimetype": "text/x-python",
   "name": "python",
   "nbconvert_exporter": "python",
   "pygments_lexer": "ipython3",
   "version": "3.6.2"
  }
 },
 "nbformat": 4,
 "nbformat_minor": 2
}
