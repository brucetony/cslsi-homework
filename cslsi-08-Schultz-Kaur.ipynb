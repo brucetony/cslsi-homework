{
 "cells": [
  {
   "cell_type": "markdown",
   "metadata": {},
   "source": [
    "# Assignment 08"
   ]
  },
  {
   "cell_type": "markdown",
   "metadata": {},
   "source": [
    "Bruce Schultz; bschultz@uni-bonn.de"
   ]
  },
  {
   "cell_type": "markdown",
   "metadata": {},
   "source": [
    "Ravinder Kaur; ravinder13kaur@gmail.com"
   ]
  },
  {
   "cell_type": "markdown",
   "metadata": {},
   "source": [
    "# Exercise 01"
   ]
  },
  {
   "cell_type": "code",
   "execution_count": 2,
   "metadata": {},
   "outputs": [
    {
     "data": {
      "text/plain": [
       "'GCAG'"
      ]
     },
     "execution_count": 2,
     "metadata": {},
     "output_type": "execute_result"
    }
   ],
   "source": [
    "#a)\n",
    "def lcs_rec(str1,str2):\n",
    "    '''Recursively determine LCS of two strings'''\n",
    "    if len(str1)==0 or len(str2)==0: # Check if string is empty then stops\n",
    "        return ''\n",
    "    elif str1[0]==str2[0]: # Compares the first character of strings\n",
    "        return str1[0] + lcs_rec(str1[1:], str2[1:]) #Adds letter if matched\n",
    "    else:\n",
    "        #Recursively go through both combos\n",
    "        return max(lcs_rec(str1[1:],str2) , lcs_rec(str1,str2[1:]), key=len)\n",
    "\n",
    "lcs_rec('AGGCATG', 'TGCAAGG')"
   ]
  },
  {
   "cell_type": "markdown",
   "metadata": {},
   "source": [
    "#b) The running time complexity of the recursive function for the LCS is O(2^n).\n",
    "It is because the number of pairs in the string will be called more than once while execution which increases the time complexity of the program. Furthermore, every pair generates two outcomes for its next level until it encounters an empty string or x==y.Therefore, if the length of the strings are n, m  Then, we will have number of outcomes at the end of the order is  2^n+m. Since, n+m is an integer number let's say N. Therefore, the time complexity of the algorithm : O(2^N)\n",
    "\n",
    "Since recursive functions do not store values for later use, they use additional memory for each new path that they must calculate, even if that means performing a calculation already done before. The function computes every combination, even if the answer has been found already, and it makes several redundant calculations. This is why recursive functions tend to be so slow especially with large n."
   ]
  },
  {
   "cell_type": "code",
   "execution_count": 52,
   "metadata": {},
   "outputs": [
    {
     "data": {
      "text/plain": [
       "'GCAG'"
      ]
     },
     "execution_count": 52,
     "metadata": {},
     "output_type": "execute_result"
    }
   ],
   "source": [
    "#c)\n",
    "def lcs_d(str1,str2):\n",
    "    \"\"\"Create a table with the lengths of LCSs, then work backwards to generate seq\"\"\"\n",
    "    \n",
    "    if len(str1)==0 or len(str2)==0: # Check if string is empty then stops\n",
    "        raise ValueError('One string is empty, check your inputs!')\n",
    "    \n",
    "    #We need to create an mxn matrix that will track our matches/lengths\n",
    "    m=len(str1) \n",
    "    n=len(str2)\n",
    "    \n",
    "    dp=[[0 for j in range(n+1)] for i in range(m+1)] #Initialized every value in matrix to 0\n",
    "    \n",
    "    # Now we generate a rules that will track all possible length combos\n",
    "    # We are only tracking lengths and not the strings themselves\n",
    "    for i in range(m+1):\n",
    "        for j in range(n+1):\n",
    "            if i==0 or j==0:\n",
    "                dp[i][j] = 0 #Base case (top left)\n",
    "            elif str1[i-1]==str2[j-1]: \n",
    "                 dp[i][j]= dp[i-1][j-1]+1 #Move to diagnal and increase length of LCS by 1\n",
    "            else:\n",
    "                #If they don't match, take max value from either above or to the left\n",
    "                dp[i][j]= max(dp[i-1][j], dp[i][j-1])\n",
    " \n",
    "    \n",
    "    #Next we want to take the longest lcs and create the string using the dp table\n",
    "    \n",
    "    # Make empty list to store matched characters in\n",
    "    lcs = []\n",
    " \n",
    "    # Start at our max value (bottom right of table) and iterate up/left\n",
    "    posx = m\n",
    "    posy = n\n",
    "    \n",
    "    while posx > 0 and posy > 0: #If either reaches 0 then we are done\n",
    "        # Only append list if we have a match then jump diagonally\n",
    "        if str1[posx-1] == str2[posy-1]:\n",
    "            lcs.append(str1[posx-1])\n",
    "            posx -=1\n",
    "            posy -=1\n",
    "        #Follow larger value\n",
    "        elif dp[posx-1][posy] > dp[posx][posy-1]:\n",
    "            posx -=1\n",
    "        else:\n",
    "            posy -=1\n",
    "    \n",
    "    return ''.join(lcs[::-1]) #We worked backwards so reverse order and join\n",
    "\n",
    "lcs_d('AGGCATG', 'TGCAAGG')"
   ]
  },
  {
   "cell_type": "code",
   "execution_count": 32,
   "metadata": {},
   "outputs": [
    {
     "data": {
      "text/plain": [
       "'AGGTACCGATC'"
      ]
     },
     "execution_count": 32,
     "metadata": {},
     "output_type": "execute_result"
    }
   ],
   "source": [
    "#d)\n",
    "\n",
    "S1=\"AGGTACCCGATC\"\n",
    "S2=\"GTAAGAGTACCGATTGATC\"\n",
    "\n",
    "lcs_d(S1, S2)"
   ]
  },
  {
   "cell_type": "code",
   "execution_count": 28,
   "metadata": {},
   "outputs": [
    {
     "data": {
      "text/plain": [
       "'AGATCCCCACCTGA'"
      ]
     },
     "execution_count": 28,
     "metadata": {},
     "output_type": "execute_result"
    }
   ],
   "source": [
    "S1=\"AGATTCCCCACCTTAGA\"\n",
    "S2=\"AGGAATCCCCAACCTGA\"\n",
    "\n",
    "lcs_d(S1, S2)"
   ]
  },
  {
   "cell_type": "markdown",
   "metadata": {},
   "source": [
    "e.)\n",
    "The dynamic programming approach utilizes an mxn matrix to generate the lengths of all LCS and then works backwards to compile the actual LCS string. Because of this, the function iterates over length n (string with length n that is) and it must perform this function m times so therefor the complexity of the function is O(mxn). This is a significant improvement over the recursive version of this function."
   ]
  },
  {
   "cell_type": "markdown",
   "metadata": {},
   "source": [
    "# Exercise 02"
   ]
  },
  {
   "cell_type": "code",
   "execution_count": 58,
   "metadata": {
    "collapsed": true
   },
   "outputs": [],
   "source": [
    "#a)\n",
    "S = [5,3,1,7,2,3,1]\n",
    "\n",
    "def iSmall(alist, i):\n",
    "    \"\"\"Finds the ith smallest numbers in an unsorted, 1 dimensional array \\\n",
    "   which uses Quicksort to only sort the partitions that i is in\"\"\"\n",
    "    \n",
    "    if i > len(alist) or i < 0: # In case input is outside array range\n",
    "        raise ValueError('Chosen position is outside the range of the \\\n",
    "list. Please choose a position between 1 and \\\n",
    "the length of the list')\n",
    "        \n",
    "   # Call helper function from start to the end index\n",
    "    iSmallHelper(alist,0,len(alist)-1, i-1)\n",
    "    return alist[i-1]\n",
    "\n",
    "def iSmallHelper(alist,first,last, i):\n",
    "   # If length of list is greater than 1\n",
    "   if first<last:\n",
    "       # Find the splitting point of the array (w.r.t. pivot's true position)\n",
    "        splitpoint = partition(alist,first,last)\n",
    "\n",
    "       # Sort left only the list that i is in\n",
    "        if i in range(first, splitpoint):\n",
    "            iSmallHelper(alist,first,splitpoint-1, i)\n",
    "        elif i in range(splitpoint+1, len(alist)):\n",
    "            iSmallHelper(alist,splitpoint+1,last, i)\n",
    "        elif i == splitpoint:\n",
    "            return alist[splitpoint]\n",
    "\n",
    "\n",
    "def partition(alist, first, last):\n",
    "    # Choose first element as pivot\n",
    "    pivotvalue = alist[first]\n",
    "\n",
    "    leftmark = first+1\n",
    "    rightmark = last\n",
    "\n",
    "    done = False\n",
    "    while not done:\n",
    "       # Move the left marker to reach a value greater than pivot\n",
    "        while leftmark <= rightmark and alist[leftmark] <= pivotvalue:\n",
    "            leftmark = leftmark + 1\n",
    "        #Move the right marker to reach a value less than pivot\n",
    "        while alist[rightmark] >= pivotvalue and rightmark >= leftmark:\n",
    "            rightmark = rightmark -1\n",
    "        #If left and right marker has reached each other then we are done\n",
    "        if rightmark < leftmark:\n",
    "            done = True\n",
    "        else:\n",
    "           # Swap the values pointed by the left and the right marker\n",
    "            temp = alist[leftmark]\n",
    "            alist[leftmark] = alist[rightmark]\n",
    "            alist[rightmark] = temp\n",
    "   # Swap the pivot with the right marker position (final pivot position)\n",
    "    temp = alist[first]\n",
    "    alist[first] = alist[rightmark]\n",
    "    alist[rightmark] = temp\n",
    "\n",
    "   # Position of the right marker is the splitting position\n",
    "    return rightmark"
   ]
  },
  {
   "cell_type": "code",
   "execution_count": 60,
   "metadata": {},
   "outputs": [
    {
     "data": {
      "text/plain": [
       "2"
      ]
     },
     "execution_count": 60,
     "metadata": {},
     "output_type": "execute_result"
    }
   ],
   "source": [
    "S = [5,3,1,7,2,3,1]\n",
    "iSmall(S, 3)"
   ]
  },
  {
   "cell_type": "code",
   "execution_count": 2,
   "metadata": {
    "collapsed": true
   },
   "outputs": [],
   "source": [
    "#b)\n",
    "def count_sort(nlist, power):\n",
    "    radix = 10\n",
    "    \n",
    "    #Counting list with length = highest value in the inputList\n",
    "    count_list = [0] * radix\n",
    "    \n",
    "    #Sorted list to return with = length as inputList\n",
    "    sorted_list = [0] * len(nlist)\n",
    "    \n",
    "    #Add 1 to each position in countlist that appears in inputList\n",
    "    for i in range(len(nlist)):\n",
    "        digit = (nlist[i]//radix**power)%radix\n",
    "        count_list[digit] += 1\n",
    "    \n",
    "    #Each value is replaced with the sum of itself and the previous value\n",
    "    for j in range(1, len(count_list)): \n",
    "        count_list[j] += count_list[j-1]\n",
    "    \n",
    "    #Counting list used to indicate position of each value of inputList\n",
    "    k = len(nlist)-1\n",
    "    while k >= 0:\n",
    "        digit = (nlist[k]//radix**power)%radix\n",
    "        count_list[digit] -= 1\n",
    "        sorted_list[count_list[digit]] = nlist[k]\n",
    "        k-=1\n",
    "    \n",
    "    #Iterate for each value\n",
    "    for i in range(len(nlist)):\n",
    "        nlist[i] = sorted_list[i]\n",
    "        \n",
    "    return sorted_list\n",
    "\n",
    "\n",
    "def string_sort(some_strings):\n",
    "    stringList = list(some_strings)\n",
    "    max_length = 0 #Initialize max_length with first\n",
    "    \n",
    "    for i in range(len(stringList)):\n",
    "        if len(stringList[i]) > max_length:\n",
    "            max_length = len(stringList[i])\n",
    "        stringList[i] = list(stringList[i])\n",
    "    \n",
    "    # Add '-' at end if string is shorter than max length\n",
    "    for i in range(len(stringList)):\n",
    "        while len(stringList[i]) < max_length:\n",
    "            stringList[i].append('-')\n",
    "    \n",
    "    letters = ['-','a','b','c', 'd', 'e', 'f', 'g', 'h','i','j','k','l', 'm',\\\n",
    "               'n', 'o', 'p', 'q', 'r', 's', 't', 'u', 'v', 'w', 'x', 'y', 'z']\n",
    "    \n",
    "    #Dict where each letter a corresponding number\n",
    "    letter_dict = dict(zip(letters, range(27)))\n",
    "    \n",
    "    # Exchange letter values for numerical\n",
    "    for i in range(len(stringList)):\n",
    "        for j in range(len(stringList[i])):\n",
    "            stringList[i][j] = letter_dict[stringList[i][j]]\n",
    "        stringList[i] = int(''.join(map(str, stringList[i]))) #Combine int\n",
    "    \n",
    "    # Make dict to translate our original strings into their numbers   \n",
    "    input_dict = dict(zip(stringList, some_strings))\n",
    "    \n",
    "    max_num = max(stringList) #Find max to set while loop end\n",
    "    \n",
    "    power = 0 #Set base power to 0\n",
    "    while max_num/(10**power) > 0:\n",
    "        results = count_sort(stringList, power)\n",
    "        power += 1\n",
    "    \n",
    "    #Convert sorted numbers back into strings and output    \n",
    "    sorted_strings = []\n",
    "    for number in results:\n",
    "        sorted_strings.append(input_dict[number])\n",
    "    \n",
    "    return sorted_strings\n"
   ]
  },
  {
   "cell_type": "code",
   "execution_count": 3,
   "metadata": {},
   "outputs": [
    {
     "data": {
      "text/plain": [
       "['a', 'ab', 'b', 'cda', 'da', 'db']"
      ]
     },
     "execution_count": 3,
     "metadata": {},
     "output_type": "execute_result"
    }
   ],
   "source": [
    "test = [\"b\",\"cda\",\"db\",\"da\",\"ab\",\"a\"]\n",
    "\n",
    "string_sort(test)"
   ]
  },
  {
   "cell_type": "code",
   "execution_count": null,
   "metadata": {
    "collapsed": true
   },
   "outputs": [],
   "source": []
  }
 ],
 "metadata": {
  "kernelspec": {
   "display_name": "Python 3",
   "language": "python",
   "name": "python3"
  },
  "language_info": {
   "codemirror_mode": {
    "name": "ipython",
    "version": 3
   },
   "file_extension": ".py",
   "mimetype": "text/x-python",
   "name": "python",
   "nbconvert_exporter": "python",
   "pygments_lexer": "ipython3",
   "version": "3.6.2"
  }
 },
 "nbformat": 4,
 "nbformat_minor": 2
}
