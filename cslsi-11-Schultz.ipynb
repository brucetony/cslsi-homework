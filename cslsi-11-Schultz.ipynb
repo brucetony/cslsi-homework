{
 "cells": [
  {
   "cell_type": "markdown",
   "metadata": {},
   "source": [
    "# Assignment 11"
   ]
  },
  {
   "cell_type": "markdown",
   "metadata": {},
   "source": [
    "Bruce Schultz; bschultz@uni-bonn.de"
   ]
  },
  {
   "cell_type": "markdown",
   "metadata": {},
   "source": [
    "# Exercise 01"
   ]
  },
  {
   "cell_type": "code",
   "execution_count": 1,
   "metadata": {},
   "outputs": [
    {
     "name": "stdout",
     "output_type": "stream",
     "text": [
      "With path compression and rank: [3.3103109836578368]\n"
     ]
    }
   ],
   "source": [
    "#a\n",
    "\n",
    "import time\n",
    "from random import randint\n",
    "import numpy as np\n",
    "\n",
    "class pathRankSet:\n",
    "    \"\"\"\n",
    "    Class that has set methods and uses union \n",
    "    by rank and find with path compression\n",
    "    \"\"\"\n",
    "     \n",
    "    def __init__(self):\n",
    "        self.parent = {} #Create dictionaries for set assignments\n",
    "        self.rank = {}\n",
    "        \n",
    "    def makeSet(self, x):\n",
    "        self.parent[x] = x #Create dict entry for new node x\n",
    "        self.rank[x] = 0\n",
    "        \n",
    "    def findSet(self, x):\n",
    "        if x != self.parent[x]:\n",
    "            self.parent[x] = self.findSet(self.parent[x])\n",
    "        return self.parent[x]\n",
    "    \n",
    "    def union(self, x, y):\n",
    "        self.link(self.findSet(x), self.findSet(y))\n",
    "        \n",
    "    def link(self, x, y):\n",
    "        if x == y: #In case they are in the same set already\n",
    "            return\n",
    "        elif self.rank[x] > self.rank[y]:\n",
    "            self.parent[y] = x\n",
    "        else:\n",
    "            self.parent[x] = y\n",
    "            if self.rank[x] == self.rank[y]:\n",
    "                self.rank[y] += 1\n",
    "                \n",
    "def time_set_func(set_class, it=10, num_sets=1000, num_op = 500000):\n",
    "    times=[]\n",
    "    dset = set_class()\n",
    "    t=[]\n",
    "    for i in range(it):\n",
    "        # Time the function\n",
    "        tStart=time.time()\n",
    "        for n in range(1, num_sets+1):\n",
    "            dset.makeSet(n)\n",
    "        for op in range(num_op):\n",
    "            coin_toss = randint(0, 1)\n",
    "            if coin_toss == 0:\n",
    "                dset.findSet(randint(1, num_sets))\n",
    "            else:\n",
    "                dset.union(randint(1, num_sets), randint(1, num_sets))\n",
    "        tEnd=time.time()\n",
    "        t.append(tEnd-tStart)\n",
    "    avgTime=np.average(np.asarray(t))\n",
    "    times.append(avgTime)\n",
    "    return times\n",
    "\n",
    "print('With path compression and rank: {}'.format(time_set_func(pathRankSet)))"
   ]
  },
  {
   "cell_type": "code",
   "execution_count": 5,
   "metadata": {},
   "outputs": [
    {
     "name": "stdout",
     "output_type": "stream",
     "text": [
      "No path compression: [3.2655310153961183]\n"
     ]
    }
   ],
   "source": [
    "#b\n",
    "\n",
    "class noPathSet:\n",
    "    \"\"\"\n",
    "    Class that has set methods and uses union \n",
    "    by rank and find without path compression\n",
    "    \"\"\"\n",
    "     \n",
    "    def __init__(self):\n",
    "        self.parent = {} #Create dictionaries for set assignments\n",
    "        self.rank = {}\n",
    "        \n",
    "    def makeSet(self, x):\n",
    "        self.parent[x] = x #Create dict entry for new node x\n",
    "        self.rank[x] = 0\n",
    "        \n",
    "    def findSet(self, x):\n",
    "        while x != self.parent[x]:\n",
    "            x = self.parent[x]\n",
    "        return self.parent[x]\n",
    "    \n",
    "    def union(self, x, y):\n",
    "        self.link(self.findSet(x), self.findSet(y))\n",
    "        \n",
    "    def link(self, x, y):\n",
    "        if x == y: #In case they are in the same set already\n",
    "            return\n",
    "        elif self.rank[x] > self.rank[y]:\n",
    "            self.parent[y] = x\n",
    "        else:\n",
    "            self.parent[x] = y\n",
    "            if self.rank[x] == self.rank[y]:\n",
    "                self.rank[y] += 1\n",
    "                \n",
    "print('No path compression: {}'.format(time_set_func(noPathSet)))"
   ]
  },
  {
   "cell_type": "code",
   "execution_count": 6,
   "metadata": {},
   "outputs": [
    {
     "name": "stdout",
     "output_type": "stream",
     "text": [
      "No path compression and no rank: [22.710670661926269]\n"
     ]
    }
   ],
   "source": [
    "#c\n",
    "\n",
    "class noPathNoRank:\n",
    "    \"\"\"\n",
    "    Class that has set methods\n",
    "    \"\"\"\n",
    "     \n",
    "    def __init__(self):\n",
    "        self.parent = {} #Create dictionaries for set assignments\n",
    "        \n",
    "    def makeSet(self, x):\n",
    "        self.parent[x] = x #Create dict entry for new node x\n",
    "        \n",
    "    def findSet(self, x):\n",
    "        while x != self.parent[x]:\n",
    "            x = self.parent[x]\n",
    "        return self.parent[x]\n",
    "    \n",
    "    def union(self, x, y):\n",
    "        self.link(self.findSet(x), self.findSet(y))\n",
    "        \n",
    "    def link(self, x, y):\n",
    "        if x == y: #In case they are in the same set already\n",
    "            return\n",
    "        else:\n",
    "            self.parent[x] = y\n",
    "            \n",
    "print('No path compression and no rank: {}'.format(time_set_func(noPathNoRank)))"
   ]
  },
  {
   "cell_type": "markdown",
   "metadata": {},
   "source": [
    "# Exercise 02"
   ]
  },
  {
   "cell_type": "code",
   "execution_count": 3,
   "metadata": {},
   "outputs": [
    {
     "name": "stdout",
     "output_type": "stream",
     "text": [
      "[['a', 'b'], ['b', 'c'], ['d', 'e'], ['a', 'e']]\n"
     ]
    }
   ],
   "source": [
    "class Graph:\n",
    "    \"\"\"\n",
    "    Class that generates nodes and edges between them, while retaining\n",
    "    the weights of edges.\n",
    "    \"\"\"\n",
    "    \n",
    "    def __init__(self):\n",
    "        self.nodes = set() # sets can't have duplicates\n",
    "        self.edges = dict() # assign nodes with edges\n",
    "        self.weights = {}\n",
    "\n",
    "    def add_node(self, value):\n",
    "        self.nodes.add(value)\n",
    "        self.edges[value]=[] #Add dict element -> node : [edges]\n",
    "    \n",
    "    def add_edge(self, from_node, to_node, weight = 1):\n",
    "        self.weight = weight #Default it to 1\n",
    "        if(not from_node in self.edges.keys()): \n",
    "            self.edges[from_node]=[]\n",
    "        \n",
    "        if(not to_node in self.edges.keys()):\n",
    "            self.edges[to_node]=[]\n",
    "        self.edges[from_node].append(to_node) #Add to_node vlaue to node's edge list\n",
    "        self.edges[to_node].append(from_node) # This is for undirected graph\n",
    "        self.weights[(from_node, to_node)] = weight\n",
    "        \n",
    "    def getNodes(self):\n",
    "        return list(self.nodes)\n",
    "\n",
    "def dfs(graph, start):\n",
    "    '''Depth First Search function'''\n",
    "    visited, stack = set(), [start]\n",
    "    vl=[]\n",
    "    while stack:\n",
    "        vertex = stack.pop() # Get element from the end\n",
    "        if vertex not in visited:\n",
    "            visited.add(vertex)\n",
    "            vl.append(vertex)\n",
    "            #print(graph.weights) for testing\n",
    "            stack.extend(set(graph.edges[vertex]) - visited)# Add elements to the end\n",
    "    return vl\n",
    "\n",
    "def mst(graph):\n",
    "    '''\n",
    "    Function that finds the Minimum Spanning Tree of a connected graph\n",
    "    given that the edges have weights\n",
    "    '''\n",
    "    graph_nodes = graph.getNodes()\n",
    "    connected_nodes = dfs(graph, graph_nodes[0])\n",
    "    for vertex in graph_nodes:\n",
    "        assert vertex in connected_nodes #Check if graph is connected\n",
    "    paths = [] #List of MST edges\n",
    "    node_set = pathRankSet() #Create set environment using class from e1\n",
    "    for node in graph_nodes: #Convert nodes into sets\n",
    "        node_set.makeSet(node)\n",
    "    #Sort by weights (values in dict)\n",
    "    sorted_edges_weights = sorted(graph.weights.items(), key = lambda x: (x[1], x[0])) \n",
    "    sorted_edges = []\n",
    "    for edge in sorted_edges_weights:\n",
    "        sorted_edges.append(list(edge[0]))\n",
    "    for pair in sorted_edges:\n",
    "        #If two nodes aren't in the same tree, then add them to list\n",
    "        if node_set.findSet(pair[0]) != node_set.findSet(pair[1]):\n",
    "            paths.append(pair)\n",
    "            node_set.union(pair[0], pair[1])\n",
    "    return paths\n",
    "\n",
    "g=Graph()\n",
    "g.add_node('a')\n",
    "g.add_node('b')\n",
    "g.add_node('c')\n",
    "g.add_node('d')\n",
    "g.add_node('e')\n",
    "\n",
    "g.add_edge('a','b', 1)\n",
    "g.add_edge('a','c', 3)\n",
    "g.add_edge('a','e', 4)\n",
    "g.add_edge('b','d', 4)\n",
    "g.add_edge('b','c', 2)\n",
    "g.add_edge('c','d', 4)\n",
    "g.add_edge('b','e', 5)\n",
    "g.add_edge('d','e', 2)\n",
    "\n",
    "print(mst(g))"
   ]
  },
  {
   "cell_type": "markdown",
   "metadata": {},
   "source": [
    "My implmentation of Kruskal's algorithm produces the same path list as shown in the lecture slides."
   ]
  },
  {
   "cell_type": "markdown",
   "metadata": {},
   "source": [
    "# Exercise 03"
   ]
  },
  {
   "cell_type": "markdown",
   "metadata": {},
   "source": [
    "a.)\n",
    "Dijkstra's algorithm is able to tell you the shortest path from one to any other node in the graph. This works by finding the local minimum edge and using that to find the global shortest path to the respective node(s). In this way, it is a type of greedy algorithm which is subject to drawbacks. One primary drawback of this algorithm is that it requires that whenever an edge is added, the \"distance\" is increased and by including negative edges then this assumption would be violated. For any large given negative value between two nodes, this would trick the algorithm into think that taking this extra path (edge) would reduce the total overall \"distance\" and thus should be used which may result in the destined node to either be bypassed, missed, or extra and unnncessary routes to be taken. For example: say we make a directed graph:\n",
    "\n",
    "g=Graph()\n",
    "g.add_node('a'), \n",
    "g.add_node('b'), \n",
    "g.add_node('c')  \n",
    "\n",
    "g.add_edge('a','b', 1), \n",
    "g.add_edge('a','c', 3), \n",
    "g.add_edge('b','c', -5), \n",
    "\n",
    "Then the \"shortest\" path according to Dijkstra's algorithm would be from a to c would be a -> b -> c as the \"distance\" would be -1, even though the shortest path is a -> c"
   ]
  },
  {
   "cell_type": "markdown",
   "metadata": {},
   "source": [
    "b.)\n",
    "Did not have time"
   ]
  },
  {
   "cell_type": "code",
   "execution_count": null,
   "metadata": {},
   "outputs": [],
   "source": []
  }
 ],
 "metadata": {
  "kernelspec": {
   "display_name": "Python 3",
   "language": "python",
   "name": "python3"
  },
  "language_info": {
   "codemirror_mode": {
    "name": "ipython",
    "version": 3
   },
   "file_extension": ".py",
   "mimetype": "text/x-python",
   "name": "python",
   "nbconvert_exporter": "python",
   "pygments_lexer": "ipython3",
   "version": "3.5.4"
  }
 },
 "nbformat": 4,
 "nbformat_minor": 2
}
